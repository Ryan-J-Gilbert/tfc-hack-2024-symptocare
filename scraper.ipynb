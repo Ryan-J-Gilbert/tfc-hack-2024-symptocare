{
 "cells": [
  {
   "cell_type": "code",
   "execution_count": null,
   "metadata": {},
   "outputs": [],
   "source": [
    "import requests\n",
    "from bs4 import BeautifulSoup\n",
    "\n",
    "# The base URL of the hypothetical website\n",
    "base_url = 'https://www.mayoclinic.org/diseases-conditions'\n",
    "\n",
    "# Send a get request to the website\n",
    "response = requests.get(base_url)\n",
    "\n",
    "# Check if the request was successful\n",
    "if response.status_code == 200:\n",
    "    # Parse the content of the page with BeautifulSoup\n",
    "    soup = BeautifulSoup(response.content, 'html.parser')\n",
    "    \n",
    "    # Find the divs that contain the links to the disease pages\n",
    "    li_elements = soup.find_all('li', class_='cmp-alphabet-facet--letter')  # Use the actual class name\n",
    "    \n",
    "    # Iterate over each li element to find the link\n",
    "    for li in li_elements:\n",
    "        # Find the div tag within the li\n",
    "        div = li.find('div', class_='cmp-link')\n",
    "        \n",
    "        # Extract the href attribute to get the link\n",
    "        if div:\n",
    "            link_tag = div.find('a')\n",
    "            if link_tag and 'href' in link_tag.attrs:\n",
    "                link = link_tag['href']\n",
    "            print(link)\n",
    "\n",
    "            if not link.startswith('http'):\n",
    "                link = base_url + link\n",
    "            if link:\n",
    "                detail_response = requests.get(link)\n",
    "                if detail_response.status_code == 200:\n",
    "                    print('Successfully retrieved the detail page')\n",
    "                    # Parse the detail page\n",
    "                    detail_soup = BeautifulSoup(detail_response.content, 'html.parser')\n",
    "                    # Find the li that contains detatil\n",
    "                    detail_li = detail_soup.find('li')\n",
    "                    div1 = detail_li.find('div', class_='cmp-result-name')\n",
    "                    div2 = div1.find('div', class_='cmp-link')\n",
    "                    detail_link = div2.find('a')\n",
    "                    print(detail_link['href'])\n",
    "else:\n",
    "    print('Failed to retrieve the main webpage')\n",
    "      "
   ]
  }
 ],
 "metadata": {
  "kernelspec": {
   "display_name": "Python 3",
   "language": "python",
   "name": "python3"
  },
  "language_info": {
   "codemirror_mode": {
    "name": "ipython",
    "version": 3
   },
   "file_extension": ".py",
   "mimetype": "text/x-python",
   "name": "python",
   "nbconvert_exporter": "python",
   "pygments_lexer": "ipython3",
   "version": "3.9.13"
  }
 },
 "nbformat": 4,
 "nbformat_minor": 2
}
