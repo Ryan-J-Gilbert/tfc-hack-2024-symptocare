{
 "cells": [
  {
   "cell_type": "code",
   "execution_count": null,
   "metadata": {},
   "outputs": [],
   "source": [
    "import pandas as pd\n",
    "import numpy as np"
   ]
  },
  {
   "cell_type": "code",
   "execution_count": null,
   "metadata": {},
   "outputs": [],
   "source": [
    "df = pd.read_html('https://people.dbmi.columbia.edu/~friedma/Projects/DiseaseSymptomKB/',attrs={'class': 'MsoTableWeb3'},encoding='ISO-8859-1' )\n",
    "df = df[0].iloc[1:]\n",
    "# rename columns to Disease, Count of Disease, Symptom\n",
    "df.columns = ['Disease', 'Count of Disease', 'Symptom']\n",
    "df['Disease'] = df['Disease'].ffill()\n",
    "\n",
    "df"
   ]
  },
  {
   "cell_type": "code",
   "execution_count": null,
   "metadata": {},
   "outputs": [],
   "source": [
    "# Initialize lists to store reformatted data\n",
    "diseases = []\n",
    "counts = []\n",
    "symptoms = []\n",
    "\n",
    "current_disease = None\n",
    "current_symptoms = []\n",
    "\n",
    "def format_symptom(symptom):\n",
    "    if isinstance(symptom, str):\n",
    "        if '^' in symptom:\n",
    "            # If the symptom contains '^', split and join with '/'\n",
    "            return '/'.join(symptom.split('_')[1] for symptom in symptom.split('^')).replace('  ',' ')\n",
    "        else:\n",
    "            # Otherwise, split and take the second part\n",
    "            return symptom.split('_')[1].replace('  ',' ')\n",
    "    else:\n",
    "        return symptom\n",
    "\n",
    "# Apply the function to the 'Symptom' column\n",
    "df['Symptom'] = df['Symptom'].apply(format_symptom)\n",
    "\n",
    "\n",
    "# Iterate through each row of the DataFrame\n",
    "for index, row in df.iterrows():\n",
    "    if row['Disease'] != current_disease:\n",
    "        # If a new disease is encountered, append the accumulated data for the previous disease\n",
    "        if current_disease is not None:\n",
    "            diseases.append(current_disease)\n",
    "            counts.append(current_count)\n",
    "            symptoms.append(current_symptoms)\n",
    "        # Start accumulating data for the new disease\n",
    "        current_disease = row['Disease']\n",
    "        current_count = row['Count of Disease']\n",
    "        current_symptoms = [row['Symptom']]\n",
    "    else:\n",
    "        # If the disease is the same, continue accumulating symptoms\n",
    "        current_symptoms.append(row['Symptom'])\n",
    "\n",
    "# Append the data for the last disease after exiting the loop\n",
    "diseases.append(current_disease)\n",
    "counts.append(current_count)\n",
    "symptoms.append(current_symptoms)\n",
    "\n",
    "# Create a new DataFrame with the reformatted data\n",
    "reformatted_df = pd.DataFrame({'Disease': diseases, 'Count of Disease Occurrence': counts, 'Symptoms': symptoms})\n",
    "reformatted_df.dropna(inplace=True)\n",
    "# since disease looks like: UMLS:C0020538_hypertensive disease, split at _ and take the second part\n",
    "# however, some diseases have multiple names, so we should split at '^' and combine using a slash\n",
    "# eg: UMLS:C0011570_depression mental^UMLS:C0011581_depressive disorder\n",
    "reformatted_df['Disease'] = reformatted_df['Disease'].apply(lambda x: '/'.join([i.split('_')[1] for i in x.split('^')]))\n",
    "\n",
    "# Display the reformatted DataFrame\n",
    "reformatted_df"
   ]
  },
  {
   "cell_type": "code",
   "execution_count": null,
   "metadata": {},
   "outputs": [],
   "source": [
    "reformatted_df.head(1).values"
   ]
  },
  {
   "cell_type": "code",
   "execution_count": null,
   "metadata": {},
   "outputs": [],
   "source": [
    "reformatted_df['Symptoms'].head(1).values[0]"
   ]
  },
  {
   "cell_type": "code",
   "execution_count": null,
   "metadata": {},
   "outputs": [],
   "source": [
    "# we will generate a column for every symptom and set it to 1 if the disease has that symptom\n",
    "# we will then use this to predict the disease based on the symptoms\n",
    "# eg:\n",
    "# Disease | Symptom1 | Symptom2 | Symptom3 | ...\n",
    "# create a new dataframe with the symptoms as columns\n",
    "\n",
    "# create a new dataframe with all symptoms as columns and set them to 0\n",
    "# first map the symptoms to a number using df['Symptom'].dropna().unique()\n",
    "symptoms_list = df['Symptom'].dropna().unique()\n",
    "\n",
    "\n",
    "symptoms_df = pd.DataFrame(columns=symptoms_list)\n",
    "symptoms_df['Disease'] = \"\"\n",
    "\n",
    "# iterate through every disease and set the symptoms to 1 if the disease has that symptom else 0\n",
    "for index, row in reformatted_df.iterrows():\n",
    "    # Extract the disease name and symptoms for the current row\n",
    "    disease_name = row['Disease']\n",
    "    disease_symptoms = row['Symptoms']\n",
    "    \n",
    "    # Create a dictionary to store symptom values for the current disease\n",
    "    symptom_dict = {symptom: 0 for symptom in symptoms_list}  # Initialize all symptoms to 0\n",
    "    \n",
    "    # Set the value to 1 for each symptom present in the current disease\n",
    "    for symptom in disease_symptoms:\n",
    "        symptom_dict[symptom] = 1\n",
    "    \n",
    "    symptom_dict['Disease'] = disease_name\n",
    "    # Add a row to symptoms_df with the disease name and symptom values\n",
    "    symptoms_df.loc[index]=(pd.Series(symptom_dict))\n",
    "\n",
    "symptoms_df    "
   ]
  },
  {
   "cell_type": "code",
   "execution_count": null,
   "metadata": {},
   "outputs": [],
   "source": [
    "# test illness\n",
    "test_illness = ['pain chest', 'asthenia', 'pressure chest']\n",
    "\n",
    "# generate one hot encoded features for the test illness\n",
    "test_illness_df = pd.DataFrame(columns=symptoms_list)\n",
    "test_illness_dict = {symptom: 0 for symptom in symptoms_list}\n",
    "for symptom in test_illness:\n",
    "    test_illness_dict[symptom] = 1\n",
    "test_illness_df.loc[0]=(pd.Series(test_illness_dict))\n",
    "\n",
    "# create a dataframe from the dict\n",
    "test_illness_df\n"
   ]
  },
  {
   "cell_type": "code",
   "execution_count": null,
   "metadata": {},
   "outputs": [],
   "source": [
    "print(list(symptoms_list))"
   ]
  },
  {
   "cell_type": "code",
   "execution_count": null,
   "metadata": {},
   "outputs": [],
   "source": [
    "# create bit vectors for every disease\n",
    "# create a bit vector for the test illness\n",
    "# and then compare distances between the test illness and the diseases vectors\n",
    "\n",
    "# Extract symptom columns (excluding the 'Disease' column)\n",
    "symptom_columns = symptoms_df.columns[:-1]  # Exclude the last column, which is 'Disease'\n",
    "\n",
    "# Convert symptom columns to arrays for each disease\n",
    "bit_vectors = symptoms_df[symptom_columns].to_numpy()\n",
    "\n",
    "# test bit vector\n",
    "test_illness_bit_vector = test_illness_df[symptom_columns].to_numpy()\n",
    "# Display bit vectors\n",
    "print(bit_vectors)"
   ]
  },
  {
   "cell_type": "code",
   "execution_count": null,
   "metadata": {},
   "outputs": [],
   "source": [
    "# get the distance between the test illness and each of the diseases\n",
    "# use cosine similarity\n",
    "from sklearn.metrics.pairwise import cosine_similarity\n",
    "# Compute cosine similarity between the test illness bit vector and the bit vectors for each disease\n",
    "cosine_similarities = cosine_similarity(test_illness_bit_vector, bit_vectors)\n",
    "cosine_similarities\n",
    "\n"
   ]
  },
  {
   "cell_type": "code",
   "execution_count": null,
   "metadata": {},
   "outputs": [],
   "source": [
    "# get top 3 highest similarity scores\n",
    "sorted_sims = sorted(cosine_similarities[0], reverse=True)[:3]\n",
    "\n",
    "# get the index of the top 3 highest similarity scores\n",
    "top_3_indices = np.argsort(cosine_similarities[0])[-3:][::-1]\n",
    "top_3_indices"
   ]
  },
  {
   "cell_type": "code",
   "execution_count": null,
   "metadata": {},
   "outputs": [],
   "source": [
    "print(list(reformatted_df['Disease'].values))"
   ]
  },
  {
   "cell_type": "code",
   "execution_count": null,
   "metadata": {},
   "outputs": [],
   "source": [
    "# get corresponding diseases names\n",
    "diseases = reformatted_df['Disease'].values[top_3_indices]\n",
    "diseases\n"
   ]
  },
  {
   "cell_type": "code",
   "execution_count": null,
   "metadata": {},
   "outputs": [],
   "source": [
    "# read data/symptoms.txt\n",
    "with open('data/symptoms.txt', 'r') as f:\n",
    "    t = f.read().splitlines()\n",
    "\n",
    "print(t)"
   ]
  }
 ],
 "metadata": {
  "kernelspec": {
   "display_name": "Python 3",
   "language": "python",
   "name": "python3"
  },
  "language_info": {
   "codemirror_mode": {
    "name": "ipython",
    "version": 3
   },
   "file_extension": ".py",
   "mimetype": "text/x-python",
   "name": "python",
   "nbconvert_exporter": "python",
   "pygments_lexer": "ipython3",
   "version": "3.9.13"
  }
 },
 "nbformat": 4,
 "nbformat_minor": 2
}
